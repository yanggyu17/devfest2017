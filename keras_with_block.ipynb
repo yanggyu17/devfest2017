{
 "cells": [
  {
   "cell_type": "markdown",
   "metadata": {},
   "source": [
    "# 블록과 함께 하는 파이썬 딥러닝 케라스"
   ]
  },
  {
   "cell_type": "markdown",
   "metadata": {},
   "source": [
    "* 꿈의 정령이 사람에게 꿈을 보낼때\n",
    "* 진실은 케라스로 된 문\n",
    "* 거짓은 상아로 된 문"
   ]
  },
  {
   "cell_type": "markdown",
   "metadata": {},
   "source": [
    "## y = w * X + b"
   ]
  },
  {
   "cell_type": "markdown",
   "metadata": {},
   "source": [
    "* 딥러닝으로 얻고자 하는 것은 w와 b\n",
    "* 내가 준비해야 할것은 x, y \n",
    "* 다른 X인데 같은 y가 나올때 수학에선 X 딥러닝에선 O"
   ]
  },
  {
   "cell_type": "markdown",
   "metadata": {},
   "source": [
    "### batch_size(배치 사이즈)\n",
    "- 문제를 푼 뒤 해답과 맞춰봐야 학습이 일어난다. \n",
    "- 배치 사이즈는 얼만큼 문제를 푸는지 \n",
    "- 속도차이, 유사한 문제 해결"
   ]
  },
  {
   "cell_type": "markdown",
   "metadata": {},
   "source": [
    "- 훈련데이터 셋으로 100% 못맞추면 모델에 문제가 있던지 데이터셋에 문제가 있다."
   ]
  },
  {
   "cell_type": "markdown",
   "metadata": {},
   "source": [
    "#### 딥러닝\n",
    "- 입력은 여러개 받을 수 있고 출력은 하나\n",
    "\n"
   ]
  },
  {
   "cell_type": "markdown",
   "metadata": {},
   "source": [
    "- dense(8 input_dim= 4,,,, ) weight = 32"
   ]
  },
  {
   "cell_type": "markdown",
   "metadata": {},
   "source": [
    "- OX 문제는 sigmoid "
   ]
  },
  {
   "cell_type": "markdown",
   "metadata": {},
   "source": []
  },
  {
   "cell_type": "markdown",
   "metadata": {},
   "source": []
  },
  {
   "cell_type": "markdown",
   "metadata": {},
   "source": []
  },
  {
   "cell_type": "markdown",
   "metadata": {},
   "source": []
  },
  {
   "cell_type": "markdown",
   "metadata": {},
   "source": []
  }
 ],
 "metadata": {
  "kernelspec": {
   "display_name": "Python 3",
   "language": "python",
   "name": "python3"
  },
  "language_info": {
   "codemirror_mode": {
    "name": "ipython",
    "version": 3
   },
   "file_extension": ".py",
   "mimetype": "text/x-python",
   "name": "python",
   "nbconvert_exporter": "python",
   "pygments_lexer": "ipython3",
   "version": "3.6.2"
  }
 },
 "nbformat": 4,
 "nbformat_minor": 2
}
