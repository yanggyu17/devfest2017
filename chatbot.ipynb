{
 "cells": [
  {
   "cell_type": "markdown",
   "metadata": {},
   "source": [
    "# Chatbot"
   ]
  },
  {
   "cell_type": "markdown",
   "metadata": {},
   "source": [
    "## 챗봇에게 무엇을 가르칠까?"
   ]
  },
  {
   "cell_type": "markdown",
   "metadata": {},
   "source": [
    "* 대화의 의도(intent)\n",
    "* 대화의 재료(entity)\n",
    "* 대화의 분위기(context)\n",
    "* 대화의 경험을 쌓고 응용()"
   ]
  },
  {
   "cell_type": "markdown",
   "metadata": {},
   "source": [
    "### 무엇을 가르칠까? 교재는 뭘로?\n",
    "* 쇼핑몰이 가지고 있는 상품 목록 -> csv파일\n",
    "* 쇼핑몰 상담 목록? 쇼핑몰 직원의 대화록? -> 단순한 상황을 가정(시간적 한계)\n",
    "* 기존 대화에 대한 분석, 직관, 상황설정 -> 단순한 상황을 가정(시간적 한계)\n",
    "* 학습 : 대화록 입력 또는 실제 대화의 내용을 보고 교육"
   ]
  },
  {
   "cell_type": "markdown",
   "metadata": {},
   "source": [
    "### 데이터 모으기\n",
    "* 쇼핑몰 검색 키워드\n",
    "* 데이터 가공 및 정제(Google DataPrep)\n",
    "* 키워드 분류 연관된 것들끼리 묶음, 관련 키워드 추출, 향후 가공 정제 작업 자동화\n",
    "* 키워드 중 애매한것 처리 -> Google Natural Language API\n",
    "* 제품, 카테고리, 브랜드, 상품모델 분류"
   ]
  },
  {
   "cell_type": "markdown",
   "metadata": {},
   "source": [
    "### github\n",
    "https://github.com/javalove93/dialogflowdemo"
   ]
  },
  {
   "cell_type": "markdown",
   "metadata": {},
   "source": []
  },
  {
   "cell_type": "markdown",
   "metadata": {},
   "source": []
  }
 ],
 "metadata": {
  "kernelspec": {
   "display_name": "Python 3",
   "language": "python",
   "name": "python3"
  },
  "language_info": {
   "codemirror_mode": {
    "name": "ipython",
    "version": 3
   },
   "file_extension": ".py",
   "mimetype": "text/x-python",
   "name": "python",
   "nbconvert_exporter": "python",
   "pygments_lexer": "ipython3",
   "version": "3.6.2"
  }
 },
 "nbformat": 4,
 "nbformat_minor": 2
}
